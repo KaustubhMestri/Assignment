{
 "cells": [
  {
   "cell_type": "markdown",
   "id": "cbd9e348-62c5-431c-83d5-eba390460325",
   "metadata": {},
   "source": [
    "1. Explain Class and Object with respect to Object-Oriented Programming. Give a suitable example."
   ]
  },
  {
   "cell_type": "markdown",
   "id": "2462db0e-6d53-48cc-9bbe-e50ca6192412",
   "metadata": {},
   "source": [
    "Object − Objects have states and behaviors. Example: A dog has states - color, name, breed as well as behaviors – wagging the tail, barking, eating. An object is an instance of a class.\n",
    "\n",
    "Class − A class can be defined as a template/blueprint that describes the behavior/state that the object of its type support."
   ]
  },
  {
   "cell_type": "markdown",
   "id": "6695e60e-82b6-4625-918e-49ef89cbc957",
   "metadata": {},
   "source": [
    "2. Name the four pillars of OOPs."
   ]
  },
  {
   "cell_type": "markdown",
   "id": "3c659790-0c53-4c6b-94da-9cfbcabfac75",
   "metadata": {},
   "source": [
    "The Four Pillars of OOPs are :\n",
    "1. Data Abstrction.\n",
    "2. Encapsulation.\n",
    "3. Inheritance. \n",
    "4. Polymorphism. "
   ]
  },
  {
   "cell_type": "markdown",
   "id": "88d53c84-f12a-430c-b886-04c24aa5be76",
   "metadata": {},
   "source": [
    "3. Explain why the __init__() function is used. Give a suitable example."
   ]
  },
  {
   "cell_type": "markdown",
   "id": "7f0c1e4b-8b20-4f03-ba95-dee2796fee4f",
   "metadata": {},
   "source": [
    " __init__ is a special python method that runs whenever a new object is created. These types of functions are used to initialize the attributes of that class, E.g., if the class is Person, then the attributes will be name, age, etc."
   ]
  },
  {
   "cell_type": "markdown",
   "id": "92c972b9-3bbc-4235-9848-a5ed2b17e782",
   "metadata": {},
   "source": [
    "4. Why self is used in OOPs?"
   ]
  },
  {
   "cell_type": "markdown",
   "id": "649778e6-6b56-4189-b623-fabb91f2baef",
   "metadata": {},
   "source": [
    "The self variable is used to represent the instance of the class which is often used in object-oriented programming. It works as a reference to the object. Python uses the self parameter to refer to instance attributes and methods of the class"
   ]
  },
  {
   "cell_type": "markdown",
   "id": "d7e57d10-cab6-4455-b62d-5439244ff81e",
   "metadata": {},
   "source": [
    "5. What is inheritance? Give an example for each type of inheritance."
   ]
  },
  {
   "cell_type": "markdown",
   "id": "d3154012-6c78-4c59-b8b4-195835ba249f",
   "metadata": {},
   "source": [
    "Inheritance is defined as the mechanism of inheriting the properties of the base class to the child class.\n",
    "\n",
    "Types : \n",
    "1. Single Inheritance : \n",
    "Single inheritance allows a derivate class to inherit properties of one parent class, and this allows code reuse and the introduction of additional features in existing code.\n",
    "\n",
    "2. Multiple Inheritance : \n",
    "If a class is able to be created from multiple base classes, this kind of Inheritance is known as multiple Inheritance. When there is multiple Inheritance, each of the attributes that are present in the classes of the base has been passed on to the class that is derived from it.\n",
    "\n",
    "3. Multilevel Inheritance : \n",
    "The features that are part of the original class, as well as the class that is derived from it, are passed on to the new class. It is similar to a relationship involving grandparents and children.\n",
    "\n",
    "4. Hierarchical Inheritance : \n",
    "If multiple derived classes are created from the same base, this kind of Inheritance is known as hierarchical inheritance. In this instance, we have two base classes as a parent (base) class as well as two children (derived) classes.\n",
    "\n",
    "5. Hybrid Inheritance : \n",
    "Inheritance consisting of multiple types of inheritance is called hybrid inheritance."
   ]
  }
 ],
 "metadata": {
  "kernelspec": {
   "display_name": "Python 3 (ipykernel)",
   "language": "python",
   "name": "python3"
  },
  "language_info": {
   "codemirror_mode": {
    "name": "ipython",
    "version": 3
   },
   "file_extension": ".py",
   "mimetype": "text/x-python",
   "name": "python",
   "nbconvert_exporter": "python",
   "pygments_lexer": "ipython3",
   "version": "3.10.8"
  }
 },
 "nbformat": 4,
 "nbformat_minor": 5
}
